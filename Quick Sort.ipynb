{
 "cells": [
  {
   "cell_type": "markdown",
   "metadata": {},
   "source": [
    "\n",
    "# HW1: Quick Sort\n",
    "\n",
    "by 李庭瑩 05121127"
   ]
  },
  {
   "cell_type": "markdown",
   "metadata": {},
   "source": [
    "## What is quicksort?\n",
    "\n",
    "- 快速排序法：對於一串未排序數字，選一個數字基準點（推薦選中間數），比較基準點左右兩邊的數字，比基準點大的放基準點右邊，比基準點小的放基準點左邊。再從原本的基準點分成的左右兩堆中各選一個數字當基準點（也可選中間數），再重複比較數字大小改變位置。\n"
   ]
  },
  {
   "cell_type": "markdown",
   "metadata": {},
   "source": [
    "## ideas\n",
    "\n",
    "- example: 4, 31, 7, 8, 1, 2\n",
    "\n",
    "1. 令 pivot = 以((數串的長度//2)-1)選出中間的數。 *答案有帶小數點時，取最接近商比較小的最大整數\n",
    "2. 把基準點左右兩堆的數字個別與基準點大小比\n",
    " - 如果大於基準點，加入基準點的右邊的list\n",
    " - 如果小於基準點，加入基準點的左邊的list\n",
    " - 如果等於基準點，加入基準點的list\n",
    "3. 最後返回一個排序後整合的列表\n"
   ]
  },
  {
   "cell_type": "code",
   "execution_count": 2,
   "metadata": {},
   "outputs": [
    {
     "name": "stdout",
     "output_type": "stream",
     "text": [
      "7\n",
      "4\n",
      "1\n",
      "31\n"
     ]
    },
    {
     "data": {
      "text/plain": [
       "[1, 2, 4, 7, 8, 31]"
      ]
     },
     "execution_count": 2,
     "metadata": {},
     "output_type": "execute_result"
    }
   ],
   "source": [
    "list1 = [4, 31, 7, 8, 1, 2]\n",
    "\n",
    "def quicksort(list):\n",
    "    if len(list)<=1: #當list只有一個或沒有元素直接返回該list，否則會出現list out of range錯誤\n",
    "        return list\n",
    "    \n",
    "    pivot = list[len(list)//2-1] #設立基準點\n",
    "    print(pivot)\n",
    "    \n",
    "    left = []\n",
    "    pivot_list = []\n",
    "    right = []\n",
    "    \n",
    "    for num in list: #比大小\n",
    "        if num > pivot:\n",
    "            right.append(num)\n",
    "        elif num == pivot:\n",
    "            pivot_list.append(num)\n",
    "        else:\n",
    "            left.append(num)\n",
    "\n",
    "    return quicksort(left) + pivot_list + quicksort(right)\n",
    "\n",
    "quicksort(list1)"
   ]
  }
 ],
 "metadata": {
  "kernelspec": {
   "display_name": "Python 3",
   "language": "python",
   "name": "python3"
  },
  "language_info": {
   "codemirror_mode": {
    "name": "ipython",
    "version": 3
   },
   "file_extension": ".py",
   "mimetype": "text/x-python",
   "name": "python",
   "nbconvert_exporter": "python",
   "pygments_lexer": "ipython3",
   "version": "3.6.6"
  }
 },
 "nbformat": 4,
 "nbformat_minor": 2
}
